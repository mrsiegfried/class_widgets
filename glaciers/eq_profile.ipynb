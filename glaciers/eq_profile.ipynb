{
 "cells": [
  {
   "cell_type": "markdown",
   "id": "04e3ae99-ed85-48e8-a01e-7fb6de04086a",
   "metadata": {},
   "source": [
    "# Widget to show equilibrium profile of an ice sheet"
   ]
  },
  {
   "cell_type": "code",
   "execution_count": 1,
   "id": "c6462f61-4aa3-4940-9ee6-37e84224bd37",
   "metadata": {},
   "outputs": [],
   "source": [
    "import matplotlib.pyplot as plt\n",
    "import numpy as np\n",
    "from ipywidgets import interactive\n",
    "import ipywidgets as widgets"
   ]
  },
  {
   "cell_type": "markdown",
   "id": "df26a669-4415-48a2-bb54-3f791b12fd2f",
   "metadata": {},
   "source": [
    "Let's derive the equation first. Let's assume a horizontal ice sheet bed at $z=0$. In this case the basal shear stress, $\\tau_b$, balances the driving stress (Cuffey & Paterson eq. 8.132):\n",
    "\n",
    "\\begin{equation}\n",
    "\\tau_b = -\\rho_i g h \\frac{dh}{dx},\n",
    "\\end{equation}\n",
    "\n",
    "where $\\rho_i$ is the ice density, $g$ is the acceleration due to gravity, $h$ is the ice thickness, and $x$ is the distance from the center of the ice sheet. If we assume perfect plasticity, the ice-sheet profile will adjust so that $\\tau_b$ equals the yield stress, $\\tau_0$ at every point:\n",
    "\n",
    "\\begin{equation}\n",
    "\\tau_0 = -\\rho_i g h \\frac{dh}{dx}.\n",
    "\\end{equation}\n",
    "\n",
    "We ultimately want an equation for $h(x)$, so let's rearrange and integrate:\n",
    "\n",
    "\\begin{eqnarray}\n",
    "\\tau_0 &=& -\\rho_i g h \\frac{dh}{dx} \\\\\n",
    "hdh &=&  -\\frac{\\tau_0}{\\rho_i g}dx \\\\\n",
    "\\frac{h^2}{2} &=& -\\frac{\\tau_0}{\\rho_i g}x + C\n",
    "\\end{eqnarray}\n",
    "\n",
    "We need a boundary condition to solve for the integration constant $C$. In this case, let's say the ice sheet has length $L$, meaning at $x=L$, $h=0$.\n",
    "\n",
    "\\begin{eqnarray}\n",
    "\\frac{h^2}{2} &=& -\\frac{\\tau_0}{\\rho_i g}x + C \\\\\n",
    "\\frac{0^2}{2} &=& -\\frac{\\tau_0}{\\rho_i g}L + C \\\\\n",
    "0 &=& -\\frac{\\tau_0}{\\rho_i g}L + C  \\\\\n",
    "C &=& \\frac{\\tau_0}{\\rho_i g}L\n",
    "\\end{eqnarray}\n",
    "\n",
    "Plug that constant back into the equation:\n",
    "\\begin{eqnarray}\n",
    "\\frac{h^2}{2} &=& -\\frac{\\tau_0}{\\rho_i g}x + \\frac{\\tau_0}{\\rho_i g}L \\\\\n",
    "h^2 &=& \\frac{2\\tau_0}{\\rho_i g}(L-x)\\\\\n",
    "h(x) &=& \\sqrt{\\frac{2\\tau_0}{\\rho_i g}(L-x)}\n",
    "\\end{eqnarray}"
   ]
  },
  {
   "cell_type": "code",
   "execution_count": 45,
   "id": "6b3de60e-ac60-4a64-806c-7b69661e1652",
   "metadata": {},
   "outputs": [
    {
     "data": {
      "application/vnd.jupyter.widget-view+json": {
       "model_id": "06a64398bc2b4fbb8236e8ec55ac88b5",
       "version_major": 2,
       "version_minor": 0
      },
      "text/plain": [
       "interactive(children=(IntSlider(value=3000, description='length (km)', max=5000, step=100), IntSlider(value=10…"
      ]
     },
     "metadata": {},
     "output_type": "display_data"
    }
   ],
   "source": [
    "rho = 918 # ice density in kg/m3\n",
    "g = 9.8 # acceleration due to gravity in m/s2\n",
    "\n",
    "# define a function that takes an ice sheet length (in km) and yield stress (in kPa)\n",
    "# and it calculates and plots the equilibrium profile \n",
    "def h(length, yieldstress):\n",
    "    xvec = np.arange(0,length) # vector of x locations\n",
    "    hvec = np.sqrt(2*yieldstress*1000/(rho*g) * (length*1000 - xvec*1000)) # calc height profile\n",
    "    plt.fill(np.concatenate((xvec,np.flip(xvec))),\n",
    "             np.concatenate((hvec,xvec*0)))\n",
    "    plt.xlim(0,5000)\n",
    "    plt.ylim(0,14000)\n",
    "    plt.xlabel('distance [km]')\n",
    "    plt.ylabel('height [m]')\n",
    "    plt.show()\n",
    "\n",
    "# make ice-sheet length slider bar\n",
    "l = widgets.IntSlider(description=\"length (km)\", \n",
    "                      min = 0, max = 5000, value = 3000, step=100)\n",
    "# make yield stress slider bar\n",
    "tau = widgets.IntSlider(description=\"\\N{greek small letter tau}$_o$ (kPa)\", \n",
    "                        min = 0, max = 150, value = 100, step=5)\n",
    "\n",
    "#create and show the widget\n",
    "img = interactive(h, length=l, yieldstress=tau)\n",
    "display(img)"
   ]
  },
  {
   "cell_type": "code",
   "execution_count": 49,
   "id": "6fc0f480-fbc3-46a4-a154-c2a85a4aa78e",
   "metadata": {},
   "outputs": [
    {
     "data": {
      "text/plain": [
       "'7.6.3'"
      ]
     },
     "execution_count": 49,
     "metadata": {},
     "output_type": "execute_result"
    }
   ],
   "source": [
    "widgets.__version__"
   ]
  },
  {
   "cell_type": "code",
   "execution_count": null,
   "id": "99431b17-8d4c-48c8-b53f-8be716cc1be7",
   "metadata": {},
   "outputs": [],
   "source": []
  }
 ],
 "metadata": {
  "kernelspec": {
   "display_name": "general",
   "language": "python",
   "name": "general"
  },
  "language_info": {
   "codemirror_mode": {
    "name": "ipython",
    "version": 3
   },
   "file_extension": ".py",
   "mimetype": "text/x-python",
   "name": "python",
   "nbconvert_exporter": "python",
   "pygments_lexer": "ipython3",
   "version": "3.8.10"
  }
 },
 "nbformat": 4,
 "nbformat_minor": 5
}
